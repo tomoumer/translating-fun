{
 "cells": [
  {
   "cell_type": "markdown",
   "id": "711b20d1",
   "metadata": {},
   "source": [
    "# Translating fun!"
   ]
  },
  {
   "cell_type": "markdown",
   "id": "76964670",
   "metadata": {},
   "source": [
    "There are two initial scopes to this:\n",
    "- first, get a word (or words) to translate\n",
    "- second, use hugging face to translate the sentences"
   ]
  },
  {
   "cell_type": "code",
   "execution_count": 54,
   "id": "8798b624",
   "metadata": {},
   "outputs": [],
   "source": [
    "import pandas as pd \n",
    "import requests\n",
    "from bs4 import BeautifulSoup\n",
    "import time"
   ]
  },
  {
   "cell_type": "markdown",
   "id": "d7e0cad8",
   "metadata": {},
   "source": [
    "## Obtain words and sentences"
   ]
  },
  {
   "cell_type": "code",
   "execution_count": null,
   "id": "74bddbcc",
   "metadata": {},
   "outputs": [],
   "source": [
    "def parse_wotd_url(\n",
    "    url: str\n",
    ") -> tuple[str, str, list[str], str]:\n",
    "    \"\"\"Function that takes in the url where the word of the day is located\n",
    "        And parses out the word, definition, examples and the stand-alone\n",
    "        word enty link.\n",
    "\n",
    "        Parameters\n",
    "        ----------\n",
    "        url : str\n",
    "            The url pointing to the word of the day location.\n",
    "\n",
    "        Returns\n",
    "        wotd : str\n",
    "            Word of the day (on the given url).\n",
    "        definition : str\n",
    "            Definition of the wotd.\n",
    "        examples : list\n",
    "            Example or examples of the wotd.\n",
    "        entry_link : str\n",
    "            Url for the wotd entry in the dictionary.\n",
    "    \"\"\"\n",
    "\n",
    "    result = requests.get(url)\n",
    "\n",
    "    if result.status_code != 200:\n",
    "        raise ValueError(f'Website did not respond as expected. Status code: {result.status_code}')\n",
    "\n",
    "    soup = BeautifulSoup(result.text)\n",
    "\n",
    "    # can see previous words of the day using h2 tags\n",
    "    wotd = soup.find_all('h2')[0].text\n",
    "\n",
    "    meaning_tag = soup.find_all('h2')[1]\n",
    "\n",
    "    # get the definition and examples until we reach the \"see the entry\"\n",
    "    sibling = meaning_tag\n",
    "    definition = ''\n",
    "    examples = []\n",
    "    entry_link = ''\n",
    "    while True:\n",
    "        sibling = sibling.find_next_sibling('p')\n",
    "\n",
    "        if definition == '':\n",
    "            definition = sibling.text\n",
    "        elif \"See the entry\" in sibling.text:\n",
    "            entry_link = sibling.find(href=True).attrs.get('href', 'Not found')\n",
    "            break\n",
    "        else:\n",
    "            examples.append(sibling.text.replace('//', '').strip())\n",
    "\n",
    "    return wotd, definition, examples, entry_link"
   ]
  },
  {
   "cell_type": "code",
   "execution_count": null,
   "id": "a99cfb58",
   "metadata": {},
   "outputs": [
    {
     "name": "stdout",
     "output_type": "stream",
     "text": [
      "litmus test\n",
      "definition: A litmus test is something (such as an opinion about a political or moral issue) that is used to make a judgment about whether someone or something is acceptable.\n",
      "At our family’s Thanksgiving dinner, the litmus test for good mac and cheese is whether or not it is baked.\n",
      "entry link: https://bit.ly/4kbDEsg\n"
     ]
    }
   ],
   "source": [
    "wotd, definition, examples, entry_link = parse_wotd_url('https://www.merriam-webster.com/word-of-the-day/')\n",
    "\n",
    "print('word of the day', wotd)\n",
    "print('definition:', definition)\n",
    "for example in examples:\n",
    "    print(example)\n",
    "print('entry link:', entry_link)"
   ]
  },
  {
   "cell_type": "code",
   "execution_count": 65,
   "id": "2f575031",
   "metadata": {},
   "outputs": [
    {
     "data": {
      "text/html": [
       "<div>\n",
       "<style scoped>\n",
       "    .dataframe tbody tr th:only-of-type {\n",
       "        vertical-align: middle;\n",
       "    }\n",
       "\n",
       "    .dataframe tbody tr th {\n",
       "        vertical-align: top;\n",
       "    }\n",
       "\n",
       "    .dataframe thead th {\n",
       "        text-align: right;\n",
       "    }\n",
       "</style>\n",
       "<table border=\"1\" class=\"dataframe\">\n",
       "  <thead>\n",
       "    <tr style=\"text-align: right;\">\n",
       "      <th></th>\n",
       "      <th>Language</th>\n",
       "      <th>Wotd</th>\n",
       "      <th>Definition</th>\n",
       "      <th>EntryLink</th>\n",
       "      <th>Example_1</th>\n",
       "    </tr>\n",
       "  </thead>\n",
       "  <tbody>\n",
       "    <tr>\n",
       "      <th>0</th>\n",
       "      <td>Eng</td>\n",
       "      <td>litmus test</td>\n",
       "      <td>A litmus test is something (such as an opinion...</td>\n",
       "      <td>https://bit.ly/4kbDEsg</td>\n",
       "      <td>At our family’s Thanksgiving dinner, the litmu...</td>\n",
       "    </tr>\n",
       "  </tbody>\n",
       "</table>\n",
       "</div>"
      ],
      "text/plain": [
       "  Language         Wotd                                         Definition  \\\n",
       "0      Eng  litmus test  A litmus test is something (such as an opinion...   \n",
       "\n",
       "                EntryLink                                          Example_1  \n",
       "0  https://bit.ly/4kbDEsg  At our family’s Thanksgiving dinner, the litmu...  "
      ]
     },
     "execution_count": 65,
     "metadata": {},
     "output_type": "execute_result"
    }
   ],
   "source": [
    "row_data = {\n",
    "    'Language': 'Eng',\n",
    "    'Wotd': wotd,\n",
    "    'Definition': definition,\n",
    "    'EntryLink': entry_link\n",
    "}\n",
    "\n",
    "for i, example in enumerate(examples):\n",
    "    row_data[f'Example_{i+1}'] = example\n",
    "\n",
    "test_df = pd.DataFrame([row_data])\n",
    "test_df"
   ]
  },
  {
   "cell_type": "markdown",
   "id": "65a370cd",
   "metadata": {},
   "source": [
    "## Translation"
   ]
  },
  {
   "cell_type": "code",
   "execution_count": 16,
   "id": "c097b04c",
   "metadata": {},
   "outputs": [],
   "source": [
    "# Use a pipeline as a high-level helper\n",
    "from transformers import pipeline"
   ]
  },
  {
   "cell_type": "code",
   "execution_count": 17,
   "id": "92eeb6e6",
   "metadata": {},
   "outputs": [
    {
     "name": "stderr",
     "output_type": "stream",
     "text": [
      "Device set to use cpu\n",
      "Device set to use cpu\n"
     ]
    }
   ],
   "source": [
    "eng_to_ita = pipeline(\n",
    "    \"translation\", \n",
    "    model=\"facebook/m2m100_418M\", \n",
    "    tokenizer=\"facebook/m2m100_418M\",\n",
    "    src_lang=\"en\", \n",
    "    tgt_lang=\"it\"  # Italian code\n",
    ")\n",
    "\n",
    "eng_to_slo = pipeline(\n",
    "    \"translation\", \n",
    "    model=\"facebook/m2m100_418M\", \n",
    "    tokenizer=\"facebook/m2m100_418M\",\n",
    "    src_lang=\"en\", \n",
    "    tgt_lang=\"sl\"  # Slovenian code\n",
    ")\n"
   ]
  },
  {
   "cell_type": "code",
   "execution_count": 66,
   "id": "87e0f1d0",
   "metadata": {},
   "outputs": [
    {
     "name": "stdout",
     "output_type": "stream",
     "text": [
      "===== word =====\n",
      "litmus test\n",
      "ita: Test di LITMUS\n",
      "slo: LITMUS test\n",
      "\n",
      "===== definition =====\n",
      "A litmus test is something (such as an opinion about a political or moral issue) that is used to make a judgment about whether someone or something is acceptable.\n",
      "ita: Un test di litmo è qualcosa (come un'opinione su una questione politica o morale) che viene usato per giudicare se qualcuno o qualcosa è accettabile.\n",
      "slo: Litmus test je nekaj (kot je mnenje o političnem ali moralnem vprašanju), ki se uporablja za odločanje o tem, ali je nekdo ali kaj sprejemljivo.\n",
      "\n",
      "===== examples =====\n",
      "At our family’s Thanksgiving dinner, the litmus test for good mac and cheese is whether or not it is baked.\n",
      "ita: Nella cena di Thanksgiving della nostra famiglia, il test di litmus per un buon mac e formaggio è se è bagnato o meno.\n",
      "slo: Na naši družini zahvalni večerji, test litmus za dober mac in sir je, ali je pečen ali ne.\n"
     ]
    }
   ],
   "source": [
    "print('===== word =====')\n",
    "print(wotd)\n",
    "print('ita:',eng_to_ita(wotd)[0]['translation_text'])\n",
    "print('slo:',eng_to_slo(wotd)[0]['translation_text'])\n",
    "print('')\n",
    "\n",
    "print('===== definition =====')\n",
    "print(definition)\n",
    "print('ita:',eng_to_ita(definition)[0]['translation_text'])\n",
    "print('slo:',eng_to_slo(definition)[0]['translation_text'])\n",
    "print('')\n",
    "\n",
    "print('===== examples =====')\n",
    "for example in examples:\n",
    "    print(example)\n",
    "    print('ita:',eng_to_ita(example)[0]['translation_text'])\n",
    "    print('slo:',eng_to_slo(example)[0]['translation_text'])"
   ]
  },
  {
   "cell_type": "code",
   "execution_count": null,
   "id": "84cf93c9",
   "metadata": {},
   "outputs": [
    {
     "data": {
      "text/plain": [
       "'A convivial atmosphere filled the gallery, with good food in abundance, and wine and conversation both flowing freely.'"
      ]
     },
     "execution_count": 21,
     "metadata": {},
     "output_type": "execute_result"
    }
   ],
   "source": [
    "# examples[1].replace('// ', '')"
   ]
  },
  {
   "cell_type": "markdown",
   "id": "6c721a4e",
   "metadata": {},
   "source": [
    "## Random 10 wotd and translation, putting it all together"
   ]
  },
  {
   "cell_type": "code",
   "execution_count": 56,
   "id": "a5c5a3c5",
   "metadata": {},
   "outputs": [
    {
     "name": "stdout",
     "output_type": "stream",
     "text": [
      "2025-06-20 00:00:00\n",
      "2022-09-24 00:00:00\n",
      "1001\n"
     ]
    }
   ],
   "source": [
    "# could go back to 2022-01-01 is not more, based on June 20, 2025 structure...\n",
    "# instead, more fun to just take 1001 days of values, by including today and excluding the 1001 ago!\n",
    "end_date = pd.to_datetime('today').normalize()\n",
    "start_date = end_date - pd.to_timedelta('1000d')\n",
    "print(end_date)\n",
    "print(start_date)\n",
    "\n",
    "dates_1001 = pd.date_range(start_date, end_date, freq='D')\n",
    "print(len(dates_1001))"
   ]
  },
  {
   "cell_type": "code",
   "execution_count": null,
   "id": "875d875d",
   "metadata": {},
   "outputs": [],
   "source": [
    "for date in pd.Series(dates_1001).sample(10):\n",
    "    print(date.date())\n",
    "    wotd, examples = parse_wotd_url(f'https://www.merriam-webster.com/word-of-the-day/2022-01-01/{date.date()}')\n",
    "\n",
    "    print(wotd)\n",
    "    for i, example in enumerate(examples):\n",
    "        print(example)   \n",
    "    print() \n",
    "    time.sleep(2)"
   ]
  }
 ],
 "metadata": {
  "kernelspec": {
   "display_name": "huggingface_ds6",
   "language": "python",
   "name": "python3"
  },
  "language_info": {
   "codemirror_mode": {
    "name": "ipython",
    "version": 3
   },
   "file_extension": ".py",
   "mimetype": "text/x-python",
   "name": "python",
   "nbconvert_exporter": "python",
   "pygments_lexer": "ipython3",
   "version": "3.12.2"
  }
 },
 "nbformat": 4,
 "nbformat_minor": 5
}
