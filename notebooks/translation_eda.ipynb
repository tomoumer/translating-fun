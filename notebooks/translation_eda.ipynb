{
 "cells": [
  {
   "cell_type": "markdown",
   "id": "711b20d1",
   "metadata": {},
   "source": [
    "# Translating fun!"
   ]
  },
  {
   "cell_type": "markdown",
   "id": "76964670",
   "metadata": {},
   "source": [
    "There are two initial scopes to this:\n",
    "- first, get a word (or words) to translate\n",
    "- second, use hugging face to translate the sentences"
   ]
  },
  {
   "cell_type": "code",
   "execution_count": 1,
   "id": "8798b624",
   "metadata": {},
   "outputs": [],
   "source": [
    "import pandas as pd \n",
    "import requests\n",
    "from bs4 import BeautifulSoup\n",
    "import time"
   ]
  },
  {
   "cell_type": "markdown",
   "id": "d7e0cad8",
   "metadata": {},
   "source": [
    "## Obtain words and sentences"
   ]
  },
  {
   "cell_type": "code",
   "execution_count": 2,
   "id": "74bddbcc",
   "metadata": {},
   "outputs": [],
   "source": [
    "def parse_wotd_url(\n",
    "    url: str\n",
    ") -> tuple[str, str, list[str], str]:\n",
    "    \"\"\"Function that takes in the url where the word of the day is located\n",
    "        And parses out the word, definition, examples and the stand-alone\n",
    "        word enty link.\n",
    "\n",
    "        Parameters\n",
    "        ----------\n",
    "        url : str\n",
    "            The url pointing to the word of the day location.\n",
    "\n",
    "        Returns\n",
    "        wotd : str\n",
    "            Word of the day (on the given url).\n",
    "        definition : str\n",
    "            Definition of the wotd.\n",
    "        examples : list\n",
    "            Example or examples of the wotd.\n",
    "        entry_link : str\n",
    "            Url for the wotd entry in the dictionary.\n",
    "    \"\"\"\n",
    "\n",
    "    result = requests.get(url)\n",
    "\n",
    "    if result.status_code != 200:\n",
    "        raise ValueError(f'Website did not respond as expected. Status code: {result.status_code}')\n",
    "\n",
    "    soup = BeautifulSoup(result.text, features=\"html.parser\")\n",
    "\n",
    "    # can see previous words of the day using h2 tags\n",
    "    wotd = soup.find_all('h2')[0].text\n",
    "\n",
    "    meaning_tag = soup.find_all('h2')[1]\n",
    "\n",
    "    # get the definition and examples until we reach the \"see the entry\"\n",
    "    sibling = meaning_tag\n",
    "    definition = ''\n",
    "    examples = []\n",
    "    entry_link = ''\n",
    "    while True:\n",
    "        sibling = sibling.find_next_sibling('p')\n",
    "\n",
    "        if definition == '':\n",
    "            definition = sibling.text\n",
    "        elif \"See the entry\" in sibling.text:\n",
    "            entry_link = sibling.find(href=True).attrs.get('href', 'Not found')\n",
    "            break\n",
    "        else:\n",
    "            examples.append(sibling.text.replace('//', '').strip())\n",
    "\n",
    "    return wotd, definition, examples, entry_link"
   ]
  },
  {
   "cell_type": "code",
   "execution_count": 23,
   "id": "a99cfb58",
   "metadata": {},
   "outputs": [
    {
     "name": "stdout",
     "output_type": "stream",
     "text": [
      "word of the day flotsam\n",
      "definition: Flotsam refers to the floating pieces that remain after a shipwreck, or more broadly to any floating debris or wreckage. It is also used figuratively to refer to miscellaneous or unimportant material, often in the phrase \"flotsam and jetsam.\" \n",
      "Driftwood and other flotsam washed onto the beach.\n",
      "Their apartment was adorned with the flotsam and jetsam of thrift stores and yard sales.\n",
      "entry link: https://www.merriam-webster.com/dictionary/flotsam\n"
     ]
    }
   ],
   "source": [
    "wotd, definition, examples, entry_link = parse_wotd_url('https://www.merriam-webster.com/word-of-the-day/')\n",
    "\n",
    "print('word of the day', wotd)\n",
    "print('definition:', definition)\n",
    "for example in examples:\n",
    "    print(example)\n",
    "print('entry link:', entry_link)"
   ]
  },
  {
   "cell_type": "code",
   "execution_count": 4,
   "id": "2f575031",
   "metadata": {},
   "outputs": [
    {
     "data": {
      "text/html": [
       "<div>\n",
       "<style scoped>\n",
       "    .dataframe tbody tr th:only-of-type {\n",
       "        vertical-align: middle;\n",
       "    }\n",
       "\n",
       "    .dataframe tbody tr th {\n",
       "        vertical-align: top;\n",
       "    }\n",
       "\n",
       "    .dataframe thead th {\n",
       "        text-align: right;\n",
       "    }\n",
       "</style>\n",
       "<table border=\"1\" class=\"dataframe\">\n",
       "  <thead>\n",
       "    <tr style=\"text-align: right;\">\n",
       "      <th></th>\n",
       "      <th>Language</th>\n",
       "      <th>Wotd</th>\n",
       "      <th>Definition</th>\n",
       "      <th>EntryLink</th>\n",
       "      <th>Example_1</th>\n",
       "      <th>Example_2</th>\n",
       "    </tr>\n",
       "  </thead>\n",
       "  <tbody>\n",
       "    <tr>\n",
       "      <th>0</th>\n",
       "      <td>Eng</td>\n",
       "      <td>flotsam</td>\n",
       "      <td>Flotsam refers to the floating pieces that rem...</td>\n",
       "      <td>https://www.merriam-webster.com/dictionary/flo...</td>\n",
       "      <td>Driftwood and other flotsam washed onto the be...</td>\n",
       "      <td>Their apartment was adorned with the flotsam a...</td>\n",
       "    </tr>\n",
       "  </tbody>\n",
       "</table>\n",
       "</div>"
      ],
      "text/plain": [
       "  Language     Wotd                                         Definition  \\\n",
       "0      Eng  flotsam  Flotsam refers to the floating pieces that rem...   \n",
       "\n",
       "                                           EntryLink  \\\n",
       "0  https://www.merriam-webster.com/dictionary/flo...   \n",
       "\n",
       "                                           Example_1  \\\n",
       "0  Driftwood and other flotsam washed onto the be...   \n",
       "\n",
       "                                           Example_2  \n",
       "0  Their apartment was adorned with the flotsam a...  "
      ]
     },
     "execution_count": 4,
     "metadata": {},
     "output_type": "execute_result"
    }
   ],
   "source": [
    "row_data = {\n",
    "    'Language': 'Eng',\n",
    "    'Wotd': wotd,\n",
    "    'Definition': definition,\n",
    "    'EntryLink': entry_link\n",
    "}\n",
    "\n",
    "for i, example in enumerate(examples):\n",
    "    row_data[f'Example_{i+1}'] = example\n",
    "\n",
    "test_df = pd.DataFrame([row_data])\n",
    "test_df"
   ]
  },
  {
   "cell_type": "markdown",
   "id": "65a370cd",
   "metadata": {},
   "source": [
    "## Translation with pipeline"
   ]
  },
  {
   "cell_type": "code",
   "execution_count": 5,
   "id": "c097b04c",
   "metadata": {},
   "outputs": [],
   "source": [
    "# Use a pipeline as a high-level helper\n",
    "from transformers import pipeline"
   ]
  },
  {
   "cell_type": "code",
   "execution_count": 6,
   "id": "92eeb6e6",
   "metadata": {},
   "outputs": [
    {
     "name": "stderr",
     "output_type": "stream",
     "text": [
      "Device set to use cpu\n",
      "Device set to use cpu\n"
     ]
    }
   ],
   "source": [
    "eng_to_ita = pipeline(\n",
    "    \"translation\", \n",
    "    model=\"facebook/m2m100_418M\", \n",
    "    tokenizer=\"facebook/m2m100_418M\",\n",
    "    src_lang=\"en\", \n",
    "    tgt_lang=\"it\"  # Italian code\n",
    ")\n",
    "\n",
    "eng_to_slo = pipeline(\n",
    "    \"translation\", \n",
    "    model=\"facebook/m2m100_418M\", \n",
    "    tokenizer=\"facebook/m2m100_418M\",\n",
    "    src_lang=\"en\", \n",
    "    tgt_lang=\"sl\"  # Slovenian code\n",
    ")\n"
   ]
  },
  {
   "cell_type": "code",
   "execution_count": 7,
   "id": "87e0f1d0",
   "metadata": {},
   "outputs": [
    {
     "name": "stdout",
     "output_type": "stream",
     "text": [
      "===== word =====\n",
      "flotsam\n",
      "ita: La flotta\n",
      "slo: Flotacija\n",
      "\n",
      "===== definition =====\n",
      "Flotsam refers to the floating pieces that remain after a shipwreck, or more broadly to any floating debris or wreckage. It is also used figuratively to refer to miscellaneous or unimportant material, often in the phrase \"flotsam and jetsam.\" \n",
      "ita: Flotsam si riferisce ai pezzi fluttuanti che rimangono dopo un naufragio, o più ampiamente a qualsiasi spazzatura o rottura fluttuante. è anche usato figurativamente per riferirsi a materiale miscelano o inimportante, spesso nella frase \"flotsam e jetsam\".\n",
      "slo: Flotsam se nanaša na plavajoče dele, ki ostanejo po pomorskem napadu, ali širše na kakršne koli plavajoče odpadke ali razpoke. Uporablja se tudi figurativno, da se nanaša na nepomembno ali nepomembno material, pogosto v izrazu \"flotsam in jetsam\".\n",
      "\n",
      "===== examples =====\n",
      "Driftwood and other flotsam washed onto the beach.\n",
      "ita: Driftwood e altri flotsam lavati sulla spiaggia.\n",
      "slo: Driftwood in drugi plovili so se umivali na plaži.\n",
      "Their apartment was adorned with the flotsam and jetsam of thrift stores and yard sales.\n",
      "ita: Il loro appartamento era arredato con il flotsam e il jetsam di negozi e sale di giardino.\n",
      "slo: Njihovo stanovanje je bilo okrašeno s flotsam in jetsam trit trgovin in dvorišča prodaje.\n"
     ]
    }
   ],
   "source": [
    "print('===== word =====')\n",
    "print(wotd)\n",
    "print('ita:',eng_to_ita(wotd)[0]['translation_text'])\n",
    "print('slo:',eng_to_slo(wotd)[0]['translation_text'])\n",
    "print('')\n",
    "\n",
    "print('===== definition =====')\n",
    "print(definition)\n",
    "print('ita:',eng_to_ita(definition)[0]['translation_text'])\n",
    "print('slo:',eng_to_slo(definition)[0]['translation_text'])\n",
    "print('')\n",
    "\n",
    "print('===== examples =====')\n",
    "for example in examples:\n",
    "    print(example)\n",
    "    print('ita:',eng_to_ita(example)[0]['translation_text'])\n",
    "    print('slo:',eng_to_slo(example)[0]['translation_text'])"
   ]
  },
  {
   "cell_type": "code",
   "execution_count": 8,
   "id": "84cf93c9",
   "metadata": {},
   "outputs": [],
   "source": [
    "# examples[1].replace('// ', '')"
   ]
  },
  {
   "cell_type": "markdown",
   "id": "6c721a4e",
   "metadata": {},
   "source": [
    "## Random 10 wotd and translation"
   ]
  },
  {
   "cell_type": "code",
   "execution_count": 9,
   "id": "a5c5a3c5",
   "metadata": {},
   "outputs": [
    {
     "name": "stdout",
     "output_type": "stream",
     "text": [
      "2025-06-25 00:00:00\n",
      "2022-09-29 00:00:00\n",
      "1001\n"
     ]
    }
   ],
   "source": [
    "# could go back to 2022-01-01 is not more, based on June 20, 2025 structure...\n",
    "# instead, more fun to just take 1001 days of values, by including today and excluding the 1001 ago!\n",
    "end_date = pd.to_datetime('today').normalize()\n",
    "start_date = end_date - pd.to_timedelta('1000d')\n",
    "print(end_date)\n",
    "print(start_date)\n",
    "\n",
    "dates_1001 = pd.date_range(start_date, end_date, freq='D')\n",
    "print(len(dates_1001))"
   ]
  },
  {
   "cell_type": "code",
   "execution_count": null,
   "id": "875d875d",
   "metadata": {},
   "outputs": [
    {
     "name": "stdout",
     "output_type": "stream",
     "text": [
      "2022-11-23\n",
      "vamoose\n",
      "With the sheriff and his posse hot on their tails, the bank robbers knew they had better vamoose.\n",
      "\n",
      "2023-04-23\n",
      "gravamen\n",
      "The gravamen of Walter’s letter to the editor was that the newspaper frequently reports on the school system's failures but rarely covers its successes and improvements.\n",
      "\n",
      "2025-06-15\n",
      "progeny\n",
      "Many Americans are the progeny of immigrants.\n",
      "The champion thoroughbred passed on his speed, endurance, and calm temperament to his progeny, many of whom became successful racehorses themselves.\n",
      "This landmark study is the progeny of many earlier efforts to explore the phenomenon.\n",
      "\n",
      "2025-03-02\n",
      "transpire\n",
      "The monument will ensure that posterity will not soon forget the historic events that transpired on that day.\n",
      "\n",
      "2024-10-31\n",
      "hallowed\n",
      "The church stands on hallowed ground.\n",
      "Community service is one of the organization’s most hallowed traditions.\n",
      "\n",
      "2024-07-31\n",
      "impeccable\n",
      "Although the restaurant was a bit expensive, we found its memorable cuisine, luxurious decor, and impeccable service to be well worth the price.\n",
      "\n",
      "2024-11-27\n",
      "guttural\n",
      "Her friends always found her deep, guttural laugh to be highly contagious.\n",
      "\n",
      "2025-03-24\n",
      "garble\n",
      "I was so nervous I garbled their names.\n",
      "\n",
      "2025-01-30\n",
      "audition\n",
      "Auditions will be held next week for the spring musical.\n",
      "She had an audition for a small part but ended up landing a starring role.\n",
      "\n",
      "2023-07-26\n",
      "stoic\n",
      "He remained stoic even as his manager reprimanded him in front of his colleagues.\n",
      "\n"
     ]
    }
   ],
   "source": [
    "# to generate 10 random ones ...\n",
    "# for date in pd.Series(dates_1001).sample(10):\n",
    "#     print(date.date())\n",
    "#     wotd, definition, examples, entry_link = parse_wotd_url(f'https://www.merriam-webster.com/word-of-the-day/{date.date()}')\n",
    "\n",
    "#     print(wotd)\n",
    "#     for i, example in enumerate(examples):\n",
    "#         print(example)   \n",
    "#     print() \n",
    "#     time.sleep(2)"
   ]
  },
  {
   "cell_type": "code",
   "execution_count": 11,
   "id": "c3b33e13",
   "metadata": {},
   "outputs": [],
   "source": [
    "# examples_slo = [res['translation_text'] for res in eng_to_slo([wotd, definition] + examples)]\n",
    "# examples_slo"
   ]
  },
  {
   "cell_type": "code",
   "execution_count": null,
   "id": "4ebf4801",
   "metadata": {},
   "outputs": [
    {
     "name": "stderr",
     "output_type": "stream",
     "text": [
      "Device set to use cpu\n"
     ]
    }
   ],
   "source": [
    "# model_name = f\"facebook/nllb-200-distilled-600M\"\n",
    "# test_pipe = pipeline(\"translation\", model=model_name,  src_lang=\"enh_Latn\", tgt_lang=\"ita_Latn\")  # Italian code) # tgt_lang =\"slv_Latn\" for slo"
   ]
  },
  {
   "cell_type": "markdown",
   "id": "b48b28b6",
   "metadata": {},
   "source": [
    "## Translate using Tokenizers\n",
    "\n",
    "This is better than pipe when using multiple languages."
   ]
  },
  {
   "cell_type": "code",
   "execution_count": 14,
   "id": "0352b919",
   "metadata": {},
   "outputs": [],
   "source": [
    "from transformers import AutoModelForSeq2SeqLM, AutoTokenizer\n",
    "\n",
    "model_name = \"facebook/nllb-200-distilled-600M\"\n",
    "tokenizer = AutoTokenizer.from_pretrained(model_name)\n",
    "model = AutoModelForSeq2SeqLM.from_pretrained(model_name)\n"
   ]
  },
  {
   "cell_type": "code",
   "execution_count": null,
   "id": "c57bfc59",
   "metadata": {},
   "outputs": [],
   "source": [
    "def translate(\n",
    "    text: str \n",
    ") -> tuple[str, str]:\n",
    "    inputs = tokenizer(text, return_tensors=\"pt\")\n",
    "    # SLO\n",
    "    bos = tokenizer.convert_tokens_to_ids(\"slv_Latn\")\n",
    "    outs = model.generate(**inputs, forced_bos_token_id=bos, max_length=512)\n",
    "    slo_translation = tokenizer.batch_decode(outs, skip_special_tokens=True)[0]\n",
    "    # ITA\n",
    "    bos = tokenizer.convert_tokens_to_ids(\"ita_Latn\")\n",
    "    outs = model.generate(**inputs, forced_bos_token_id=bos, max_length=512)\n",
    "    ita_translation = tokenizer.batch_decode(outs, skip_special_tokens=True)[0]\n",
    "\n",
    "    return slo_translation, ita_translation\n"
   ]
  },
  {
   "cell_type": "code",
   "execution_count": 28,
   "id": "10592cf2",
   "metadata": {},
   "outputs": [
    {
     "name": "stdout",
     "output_type": "stream",
     "text": [
      "===== word =====\n",
      "flotsam\n",
      "slo: vročino\n",
      "ita: di fiocco\n",
      "\n",
      "===== definition =====\n",
      "Flotsam refers to the floating pieces that remain after a shipwreck, or more broadly to any floating debris or wreckage. It is also used figuratively to refer to miscellaneous or unimportant material, often in the phrase \"flotsam and jetsam.\" \n",
      "slo: Flotsam se nanaša na plujoče dele, ki ostanejo po brodolomju, ali širše na vse plujoče ostanke ali romove.\n",
      "ita: Il flotsam si riferisce ai pezzi galleggianti rimasti dopo un naufragio, o più in generale a qualsiasi detriti galleggianti o relitto.\n",
      "\n",
      "===== examples =====\n",
      "Driftwood and other flotsam washed onto the beach.\n",
      "slo: Drva in druga drva se je odplavila na plažo.\n",
      "ita: Legno di deriva e altri flotsam spargono sulla spiaggia.\n",
      "Their apartment was adorned with the flotsam and jetsam of thrift stores and yard sales.\n",
      "slo: Njihov stanovanje je bilo okrašeno z plinom in plinom trgovin in trgovin.\n",
      "ita: Il loro appartamento era ornato di negozi di scorte e vendite di giardini.\n"
     ]
    }
   ],
   "source": [
    "print('===== word =====')\n",
    "print(wotd)\n",
    "slo_translation, ita_translation = translate(wotd)\n",
    "print('slo:',slo_translation)\n",
    "print('ita:',ita_translation)\n",
    "print('')\n",
    "\n",
    "print('===== definition =====')\n",
    "print(definition)\n",
    "slo_translation, ita_translation = translate(definition)\n",
    "print('slo:',slo_translation)\n",
    "print('ita:',ita_translation)\n",
    "print('')\n",
    "\n",
    "print('===== examples =====')\n",
    "for example in examples:\n",
    "    print(example)\n",
    "    slo_translation, ita_translation = translate(example)\n",
    "    print('slo:',slo_translation)\n",
    "    print('ita:',ita_translation)\n",
    "    print('')"
   ]
  },
  {
   "cell_type": "code",
   "execution_count": null,
   "id": "1e69b378",
   "metadata": {},
   "outputs": [],
   "source": [
    "# this is to match how I designed it for streamlit\n",
    "translated = [translate(res) for res in [wotd, definition] + examples]"
   ]
  },
  {
   "cell_type": "code",
   "execution_count": 34,
   "id": "5b0398a4",
   "metadata": {},
   "outputs": [],
   "source": [
    "slovenian = [x[0] for x in translated]\n",
    "italian = [x[1] for x in translated]"
   ]
  },
  {
   "cell_type": "code",
   "execution_count": 35,
   "id": "5a41f539",
   "metadata": {},
   "outputs": [
    {
     "data": {
      "text/plain": [
       "['vročino',\n",
       " 'Flotsam se nanaša na plujoče dele, ki ostanejo po brodolomju, ali širše na vse plujoče ostanke ali romove.',\n",
       " 'Drva in druga drva se je odplavila na plažo.',\n",
       " 'Njihov stanovanje je bilo okrašeno z plinom in plinom trgovin in trgovin.']"
      ]
     },
     "execution_count": 35,
     "metadata": {},
     "output_type": "execute_result"
    }
   ],
   "source": [
    "slovenian"
   ]
  },
  {
   "cell_type": "code",
   "execution_count": 36,
   "id": "4a958607",
   "metadata": {},
   "outputs": [
    {
     "data": {
      "text/plain": [
       "['di fiocco',\n",
       " 'Il flotsam si riferisce ai pezzi galleggianti rimasti dopo un naufragio, o più in generale a qualsiasi detriti galleggianti o relitto.',\n",
       " 'Legno di deriva e altri flotsam spargono sulla spiaggia.',\n",
       " 'Il loro appartamento era ornato di negozi di scorte e vendite di giardini.']"
      ]
     },
     "execution_count": 36,
     "metadata": {},
     "output_type": "execute_result"
    }
   ],
   "source": [
    "italian"
   ]
  },
  {
   "cell_type": "code",
   "execution_count": null,
   "id": "775b3b92",
   "metadata": {},
   "outputs": [],
   "source": []
  }
 ],
 "metadata": {
  "kernelspec": {
   "display_name": "huggingface_ds6",
   "language": "python",
   "name": "python3"
  },
  "language_info": {
   "codemirror_mode": {
    "name": "ipython",
    "version": 3
   },
   "file_extension": ".py",
   "mimetype": "text/x-python",
   "name": "python",
   "nbconvert_exporter": "python",
   "pygments_lexer": "ipython3",
   "version": "3.12.2"
  }
 },
 "nbformat": 4,
 "nbformat_minor": 5
}
