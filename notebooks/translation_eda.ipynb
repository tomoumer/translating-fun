{
 "cells": [
  {
   "cell_type": "markdown",
   "id": "711b20d1",
   "metadata": {},
   "source": [
    "# Translating fun!"
   ]
  },
  {
   "cell_type": "markdown",
   "id": "76964670",
   "metadata": {},
   "source": [
    "There are two initial scopes to this:\n",
    "- first, get a word (or words) to translate\n",
    "- second, use hugging face to translate the sentences"
   ]
  },
  {
   "cell_type": "code",
   "execution_count": 39,
   "id": "8798b624",
   "metadata": {},
   "outputs": [],
   "source": [
    "import pandas as pd \n",
    "import requests\n",
    "from bs4 import BeautifulSoup"
   ]
  },
  {
   "cell_type": "markdown",
   "id": "d7e0cad8",
   "metadata": {},
   "source": [
    "## Obtain words and sentences"
   ]
  },
  {
   "cell_type": "code",
   "execution_count": 40,
   "id": "74bddbcc",
   "metadata": {},
   "outputs": [],
   "source": [
    "url = 'https://www.merriam-webster.com/word-of-the-day/'\n",
    "\n",
    "result = requests.get(url)\n",
    "\n",
    "if result.status_code != 200:\n",
    "    raise ValueError(f'Website did not respond as expected. Status code: {result.status_code}')"
   ]
  },
  {
   "cell_type": "code",
   "execution_count": 41,
   "id": "dcdb7192",
   "metadata": {},
   "outputs": [],
   "source": [
    "soup = BeautifulSoup(result.text)"
   ]
  },
  {
   "cell_type": "code",
   "execution_count": 42,
   "id": "598064ef",
   "metadata": {},
   "outputs": [
    {
     "data": {
      "text/plain": [
       "'jeopardize'"
      ]
     },
     "execution_count": 42,
     "metadata": {},
     "output_type": "execute_result"
    }
   ],
   "source": [
    "# can see previous words of the day using h2 tags\n",
    "wotd = soup.find_all('h2')[0].text\n",
    "wotd"
   ]
  },
  {
   "cell_type": "code",
   "execution_count": 43,
   "id": "54312033",
   "metadata": {},
   "outputs": [],
   "source": [
    "meaning_tag = soup.find_all('h2')[1]\n",
    "\n",
    "# get the definition and examples until we reach the \"see the entry\"\n",
    "sibling = meaning_tag\n",
    "examples = []\n",
    "while True:\n",
    "    sibling = sibling.find_next_sibling('p')\n",
    "\n",
    "    if \"See the entry\" in sibling.text:\n",
    "        entry_link = sibling.find(href=True).attrs.get('href', 'Not found')\n",
    "        examples.append(entry_link)\n",
    "        break\n",
    "\n",
    "    examples.append(sibling.text)\n",
    "\n"
   ]
  },
  {
   "cell_type": "code",
   "execution_count": 44,
   "id": "a99cfb58",
   "metadata": {},
   "outputs": [
    {
     "data": {
      "text/plain": [
       "['To jeopardize something or someone is to put them at risk or in danger.',\n",
       " '// The wrong decision could seriously jeopardize the success of the project.',\n",
       " 'https://www.merriam-webster.com/dictionary/jeopardize']"
      ]
     },
     "execution_count": 44,
     "metadata": {},
     "output_type": "execute_result"
    }
   ],
   "source": [
    "examples"
   ]
  },
  {
   "cell_type": "markdown",
   "id": "65a370cd",
   "metadata": {},
   "source": [
    "## Translation"
   ]
  },
  {
   "cell_type": "code",
   "execution_count": 65,
   "id": "c097b04c",
   "metadata": {},
   "outputs": [],
   "source": [
    "# Use a pipeline as a high-level helper\n",
    "from transformers import pipeline"
   ]
  },
  {
   "cell_type": "code",
   "execution_count": null,
   "id": "92eeb6e6",
   "metadata": {},
   "outputs": [
    {
     "name": "stderr",
     "output_type": "stream",
     "text": [
      "Device set to use cpu\n",
      "Device set to use cpu\n"
     ]
    }
   ],
   "source": [
    "eng_to_ita = pipeline(\n",
    "    \"translation\", \n",
    "    model=\"facebook/m2m100_418M\", \n",
    "    tokenizer=\"facebook/m2m100_418M\",\n",
    "    src_lang=\"en\", \n",
    "    tgt_lang=\"it\"  # Italian code\n",
    ")\n",
    "\n",
    "eng_to_slo = pipeline(\n",
    "    \"translation\", \n",
    "    model=\"facebook/m2m100_418M\", \n",
    "    tokenizer=\"facebook/m2m100_418M\",\n",
    "    src_lang=\"en\", \n",
    "    tgt_lang=\"sl\"  # Slovenian code\n",
    ")\n"
   ]
  },
  {
   "cell_type": "code",
   "execution_count": null,
   "id": "87e0f1d0",
   "metadata": {},
   "outputs": [
    {
     "name": "stdout",
     "output_type": "stream",
     "text": [
      "===== word =====\n",
      "jeopardize\n",
      "ita: Il pericolo\n",
      "slo: grožnja\n",
      "\n",
      "===== definition =====\n",
      "To jeopardize something or someone is to put them at risk or in danger.\n",
      "ita: Per mettere in pericolo qualcosa o qualcuno è metterli a rischio o in pericolo.\n",
      "slo: Da bi nekaj ali nekoga ogrozili, je, da bi jih postavili v nevarnost ali v nevarnost.\n",
      "\n",
      "===== example =====\n",
      "// The wrong decision could seriously jeopardize the success of the project.\n",
      "ita: La decisione sbagliata potrebbe seriamente minacciare il successo del progetto.\n",
      "slo: Napačna odločitev bi lahko resno ogrozila uspeh projekta.\n"
     ]
    }
   ],
   "source": [
    "print('===== word =====')\n",
    "print(wotd)\n",
    "print('ita:',eng_to_ita(wotd)[0]['translation_text'])\n",
    "print('slo:',eng_to_slo(wotd)[0]['translation_text'])\n",
    "print('')\n",
    "\n",
    "print('===== definition =====')\n",
    "print(examples[0])\n",
    "print('ita:',eng_to_ita(examples[0])[0]['translation_text'])\n",
    "print('slo:',eng_to_slo(examples[0])[0]['translation_text'])\n",
    "print('')\n",
    "\n",
    "print('===== examples =====')\n",
    "for example in examples[1:]:\n",
    "    if example.startswith('http'):\n",
    "        break\n",
    "    print(example)\n",
    "    print('ita:',eng_to_ita(example)[0]['translation_text'])\n",
    "    print('slo:',eng_to_slo(example)[0]['translation_text'])"
   ]
  },
  {
   "cell_type": "code",
   "execution_count": null,
   "id": "84cf93c9",
   "metadata": {},
   "outputs": [],
   "source": []
  }
 ],
 "metadata": {
  "kernelspec": {
   "display_name": "huggingface_ds6",
   "language": "python",
   "name": "python3"
  },
  "language_info": {
   "codemirror_mode": {
    "name": "ipython",
    "version": 3
   },
   "file_extension": ".py",
   "mimetype": "text/x-python",
   "name": "python",
   "nbconvert_exporter": "python",
   "pygments_lexer": "ipython3",
   "version": "3.12.2"
  }
 },
 "nbformat": 4,
 "nbformat_minor": 5
}
