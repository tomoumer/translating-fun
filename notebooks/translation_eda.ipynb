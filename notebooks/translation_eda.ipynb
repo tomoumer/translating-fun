{
 "cells": [
  {
   "cell_type": "markdown",
   "id": "711b20d1",
   "metadata": {},
   "source": [
    "# Translating fun!"
   ]
  },
  {
   "cell_type": "markdown",
   "id": "76964670",
   "metadata": {},
   "source": [
    "There are two initial scopes to this:\n",
    "- first, get a word (or words) to translate\n",
    "- second, use hugging face to translate the sentences"
   ]
  },
  {
   "cell_type": "code",
   "execution_count": 5,
   "id": "8798b624",
   "metadata": {},
   "outputs": [],
   "source": [
    "import pandas as pd \n",
    "import requests\n",
    "from bs4 import BeautifulSoup"
   ]
  },
  {
   "cell_type": "markdown",
   "id": "d7e0cad8",
   "metadata": {},
   "source": [
    "## Obtain words and sentences"
   ]
  },
  {
   "cell_type": "code",
   "execution_count": null,
   "id": "74bddbcc",
   "metadata": {},
   "outputs": [
    {
     "data": {
      "text/plain": [
       "200"
      ]
     },
     "execution_count": 2,
     "metadata": {},
     "output_type": "execute_result"
    }
   ],
   "source": [
    "url = 'https://www.merriam-webster.com/word-of-the-day/'\n",
    "\n",
    "result = requests.get(url)\n",
    "\n",
    "if result.status_code != 200:\n",
    "    raise ValueError(f'Website did not respond as expected. Status code: {result.status_code}')"
   ]
  },
  {
   "cell_type": "code",
   "execution_count": 7,
   "id": "dcdb7192",
   "metadata": {},
   "outputs": [],
   "source": [
    "soup = BeautifulSoup(result.text)"
   ]
  },
  {
   "cell_type": "code",
   "execution_count": 13,
   "id": "598064ef",
   "metadata": {},
   "outputs": [
    {
     "data": {
      "text/plain": [
       "'jeopardize'"
      ]
     },
     "execution_count": 13,
     "metadata": {},
     "output_type": "execute_result"
    }
   ],
   "source": [
    "# can see previous words of the day using h2 tags\n",
    "wotd = soup.find_all('h2')[0].text\n",
    "wotd"
   ]
  },
  {
   "cell_type": "code",
   "execution_count": 36,
   "id": "54312033",
   "metadata": {},
   "outputs": [],
   "source": [
    "meaning_tag = soup.find_all('h2')[1]\n",
    "\n",
    "# get the definition and examples until we reach the \"see the entry\"\n",
    "sibling = meaning_tag\n",
    "examples = []\n",
    "while True:\n",
    "    sibling = sibling.find_next_sibling('p')\n",
    "\n",
    "    if \"See the entry\" in sibling.text:\n",
    "        entry_link = sibling.find(href=True).attrs.get('href', 'Not found')\n",
    "        examples.append(entry_link)\n",
    "        break\n",
    "\n",
    "    examples.append(sibling.text)\n",
    "\n"
   ]
  },
  {
   "cell_type": "code",
   "execution_count": 37,
   "id": "a99cfb58",
   "metadata": {},
   "outputs": [
    {
     "data": {
      "text/plain": [
       "['To jeopardize something or someone is to put them at risk or in danger.',\n",
       " '// The wrong decision could seriously jeopardize the success of the project.',\n",
       " 'https://www.merriam-webster.com/dictionary/jeopardize']"
      ]
     },
     "execution_count": 37,
     "metadata": {},
     "output_type": "execute_result"
    }
   ],
   "source": [
    "examples"
   ]
  },
  {
   "cell_type": "code",
   "execution_count": null,
   "id": "c097b04c",
   "metadata": {},
   "outputs": [],
   "source": []
  }
 ],
 "metadata": {
  "kernelspec": {
   "display_name": "huggingface_ds6",
   "language": "python",
   "name": "python3"
  },
  "language_info": {
   "codemirror_mode": {
    "name": "ipython",
    "version": 3
   },
   "file_extension": ".py",
   "mimetype": "text/x-python",
   "name": "python",
   "nbconvert_exporter": "python",
   "pygments_lexer": "ipython3",
   "version": "3.12.2"
  }
 },
 "nbformat": 4,
 "nbformat_minor": 5
}
